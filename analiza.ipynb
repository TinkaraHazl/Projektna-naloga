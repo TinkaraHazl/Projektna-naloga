{
 "cells": [
  {
   "cell_type": "markdown",
   "metadata": {},
   "source": [
    "# Analiza pokemonov\n",
    "\n",
    "V tej datoteki bom analizirala lastnosti Pokemonov. Podatke sem zajela iz spletne strani __[Serebii](https://www.serebii.net/pokemon/nationalpokedex.shtml)__.\n",
    "\n",
    "## Predstavitev pokemonov in njihovih lastnosti\n",
    "\n",
    "Pokemoni so magična bitja, podobna živalim, ki izvirajo iz enako imenovane franšize iger. V igrah imajo pokemoni posebne lastnosti, ki določajo, kako se borijo drug z drugim in katere strategije so najbolj uporabne glede na pokemonove vrline. Te lastnosti so:\n",
    "-  __Type__: Pokemon ima lahko enega ali dva tipa, ki določa, proti katerim napadom bo pokemon bolj ali manj vzdržljiv. Prav tako določa, katere napade se pokemon lahko nauči.\n",
    "\n",
    "-  __Abilities__: V spopadu pokemon lahko uporabi eno od svojih zmožnosti, ki pasivno vplivajo nanjo. Na primer, pokemonova zmožnost je lahko lebdenje, zaradi česar je imun na vse napade tipa \"ground\" oziroma \"zemlja\".\n",
    "\n",
    "-  __HP oziroma \"Hit points\"__: Pove, koliko škode lahko pokemon vzdrži, preden izgubi spopad.\n",
    "\n",
    "-  __Attack__: Pove, kako močni so pokemonovi fizični (torej dotikalni) napadi.\n",
    "\n",
    "-  __Special attack__: Pove, kako močni so pokemonovi magični napadi in napadi, ki delujejo na daljšo razdaljo.\n",
    "\n",
    "-  __Defense__: Pove, kako dobro se pokemon brani proti fizičnim napadom, oziroma koliko HP izgubi.\n",
    "\n",
    "-  __Special defense__: Pove, kako dobro se pokemon brani proti magičnim napadom.\n",
    "\n",
    "-  __Speed__: Spopadi med pokemoni povečini delujejo izmenično - prvo napade en pokemon, potem drugi. Hitrost določa, kateri pokemon bo prvi na vrsti - pokemon z višjo hitrostjo začne prvi.\n",
    "\n",
    "Prvo bom analizirala lastnosti pokemonov in predstavila splošne statistike. Kasneje se bom poglobila v strategije za spopade in izbiranje najprimernejših pokemonov za spopade."
   ]
  },
  {
   "cell_type": "code",
   "execution_count": null,
   "metadata": {},
   "outputs": [],
   "source": [
    "import pandas\n"
   ]
  }
 ],
 "metadata": {
  "kernelspec": {
   "display_name": "venv",
   "language": "python",
   "name": "python3"
  },
  "language_info": {
   "name": "python",
   "version": "3.11.2"
  },
  "orig_nbformat": 4
 },
 "nbformat": 4,
 "nbformat_minor": 2
}
